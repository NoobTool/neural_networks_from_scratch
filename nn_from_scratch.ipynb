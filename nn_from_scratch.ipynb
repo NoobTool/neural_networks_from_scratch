{
 "cells": [
  {
   "cell_type": "code",
   "execution_count": 31,
   "id": "ee7b3296",
   "metadata": {},
   "outputs": [
    {
     "name": "stdout",
     "output_type": "stream",
     "text": [
      "The autoreload extension is already loaded. To reload it, use:\n",
      "  %reload_ext autoreload\n"
     ]
    }
   ],
   "source": [
    "%load_ext autoreload\n",
    "%autoreload 2\n",
    "\n",
    "import matplotlib.pyplot as plt\n",
    "import numpy as np\n",
    "import pandas as pd\n",
    "\n",
    "from sklearn.datasets import load_digits\n",
    "\n",
    "from src.layer import Layer\n",
    "from src.network import NeuralNetwork\n",
    "from utils.activation_functions import ActivationFunctions"
   ]
  },
  {
   "cell_type": "code",
   "execution_count": 23,
   "id": "c6fb9b3c",
   "metadata": {},
   "outputs": [],
   "source": [
    "digits = load_digits()"
   ]
  },
  {
   "cell_type": "code",
   "execution_count": 24,
   "id": "d8c3b08b",
   "metadata": {},
   "outputs": [
    {
     "data": {
      "image/png": "[encoded data removed]",
      "text/plain": [
       "<Figure size 1000x200 with 5 Axes>"
      ]
     },
     "metadata": {},
     "output_type": "display_data"
    }
   ],
   "source": [
    "# Randomly choose 5 indices\n",
    "random_indices = np.random.choice(len(digits.images), size=5, replace=False)\n",
    "\n",
    "# Plot the 5 random digits\n",
    "plt.figure(figsize=(10, 2))\n",
    "for i, idx in enumerate(random_indices):\n",
    "    plt.subplot(1, 5, i + 1)\n",
    "    plt.imshow(digits.images[idx], cmap='gray')\n",
    "    plt.title(f\"Label: {digits.target[idx]}\")\n",
    "    plt.axis('off')\n",
    "\n",
    "plt.tight_layout()\n",
    "plt.show()"
   ]
  },
  {
   "cell_type": "code",
   "execution_count": 25,
   "id": "5b9150b1",
   "metadata": {},
   "outputs": [],
   "source": [
    "df: pd.DataFrame = pd.DataFrame(digits.data)\n",
    "test_sample = df.sample(1).to_numpy()"
   ]
  },
  {
   "cell_type": "code",
   "execution_count": 26,
   "id": "4bef27ee",
   "metadata": {},
   "outputs": [],
   "source": [
    "input_size = 64\n",
    "output_size = 10"
   ]
  },
  {
   "cell_type": "code",
   "execution_count": 30,
   "id": "37bca0ae",
   "metadata": {},
   "outputs": [],
   "source": [
    "layer1 = Layer(5, 2, ActivationFunctions.relu)\n",
    "layer2 = Layer(2, 10, ActivationFunctions.relu)"
   ]
  },
  {
   "cell_type": "code",
   "execution_count": 33,
   "id": "98341a6c",
   "metadata": {},
   "outputs": [],
   "source": [
    "network = NeuralNetwork([layer1, layer2])"
   ]
  },
  {
   "cell_type": "code",
   "execution_count": 34,
   "id": "c96c96aa",
   "metadata": {},
   "outputs": [
    {
     "data": {
      "text/plain": [
       "array([[13., 13., 13., 13., 13., 13., 13., 13., 13., 13.]])"
      ]
     },
     "execution_count": 34,
     "metadata": {},
     "output_type": "execute_result"
    }
   ],
   "source": [
    "network.train(np.array([1,1,1,1,1]).reshape(1, -1), \n",
    "              [], 1)"
   ]
  },
  {
   "cell_type": "code",
   "execution_count": null,
   "id": "f16ce8f3",
   "metadata": {},
   "outputs": [],
   "source": []
  }
 ],
 "metadata": {
  "kernelspec": {
   "display_name": "nn_scratch",
   "language": "python",
   "name": "python3"
  },
  "language_info": {
   "codemirror_mode": {
    "name": "ipython",
    "version": 3
   },
   "file_extension": ".py",
   "mimetype": "text/x-python",
   "name": "python",
   "nbconvert_exporter": "python",
   "pygments_lexer": "ipython3",
   "version": "3.13.5"
  }
 },
 "nbformat": 4,
 "nbformat_minor": 5
}
